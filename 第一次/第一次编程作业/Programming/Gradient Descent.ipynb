{
 "cells": [
  {
   "cell_type": "code",
   "execution_count": 20,
   "metadata": {},
   "outputs": [
    {
     "name": "stdout",
     "output_type": "stream",
     "text": [
      "The autoreload extension is already loaded. To reload it, use:\n",
      "  %reload_ext autoreload\n"
     ]
    }
   ],
   "source": [
    "# Useful starting lines\n",
    "%matplotlib inline\n",
    "import numpy as np\n",
    "import matplotlib.pyplot as plt\n",
    "%load_ext autoreload\n",
    "%autoreload 2"
   ]
  },
  {
   "cell_type": "code",
   "execution_count": 21,
   "metadata": {},
   "outputs": [
    {
     "name": "stdout",
     "output_type": "stream",
     "text": [
      "You are running Python 3. Good job :)\n"
     ]
    }
   ],
   "source": [
    "# Check the Python version\n",
    "import sys\n",
    "if sys.version.startswith(\"3.\"):\n",
    "  print(\"You are running Python 3. Good job :)\")\n",
    "else:\n",
    "  print(\"This notebook requires Python 3.\\nIf you are using Google Colab, go to Runtime > Change runtime type and choose Python 3.\")"
   ]
  },
  {
   "cell_type": "code",
   "execution_count": 22,
   "metadata": {},
   "outputs": [],
   "source": [
    "try:\n",
    "  import google.colab\n",
    "  IN_COLAB = True\n",
    "except:\n",
    "  IN_COLAB = False\n",
    "if IN_COLAB:\n",
    "  # Clone the entire repo to access the files.\n",
    "  !git clone -l -s https://github.com/epfml/OptML_course.git cloned-repo\n",
    "  %cd cloned-repo/labs/ex02/template/"
   ]
  },
  {
   "cell_type": "markdown",
   "metadata": {},
   "source": [
    "# Load the data"
   ]
  },
  {
   "cell_type": "code",
   "execution_count": 23,
   "metadata": {},
   "outputs": [],
   "source": [
    "import datetime\n",
    "from helpers import *\n",
    "\n",
    "height, weight, gender = load_data(sub_sample=False, add_outlier=False)\n",
    "x, mean_x, std_x = standardize(height)\n",
    "b, A = build_model_data(x, weight)"
   ]
  },
  {
   "cell_type": "code",
   "execution_count": 24,
   "metadata": {},
   "outputs": [
    {
     "data": {
      "text/plain": "((10000,), (10000, 2))"
     },
     "execution_count": 24,
     "metadata": {},
     "output_type": "execute_result"
    }
   ],
   "source": [
    "b.shape, A.shape\n"
   ]
  },
  {
   "cell_type": "markdown",
   "source": [
    "# Least Squares Estimation\n",
    "Least squares estimation is one of the fundamental machine learning algorithms. Given an $ n \\times d $ matrix $A$ and a $ n \\times 1$ vector $b$, the goal is to find a vector $x \\in \\mathbb{R}^d$ which minimizes the objective function $$f(x) = \\frac{1}{2n} \\sum_{i=1}^{n} (a_i^\\top x - b_i)^2 = \\frac{1}{2n} \\|Ax - b\\|^2 $$\n",
    "\n",
    "In this exercise, we will try to fit $x$ using Least Squares Estimation. \n",
    "\n",
    "One can see the function is $L$ smooth with $L = \\frac1n\\|A\\|^2$ (Corollary 2.5)."
   ],
   "metadata": {
    "collapsed": false
   }
  },
  {
   "cell_type": "markdown",
   "metadata": {},
   "source": [
    "# Computing the Objective Function\n",
    "Fill in the `calculate_objective` function below:"
   ]
  },
  {
   "cell_type": "code",
   "execution_count": 25,
   "metadata": {},
   "outputs": [],
   "source": [
    "def calculate_objective(Axmb):\n",
    "    \"\"\"Calculate the mean squared error for vector Axmb = Ax - b.\"\"\"\n",
    "    # ***************************************************\n",
    "    # INSERT YOUR CODE HERE\n",
    "    # TODO: compute mean squared error\n",
    "    n = Axmb.shape[0]\n",
    "    error = np.linalg.norm(Axmb)**2/(2*n)\n",
    "    return error\n",
    "    # ***************************************************\n",
    "    # raise NotImplementedError"
   ]
  },
  {
   "cell_type": "markdown",
   "metadata": {},
   "source": [
    "# Compute smoothness constant $L$"
   ]
  },
  {
   "cell_type": "markdown",
   "metadata": {},
   "source": [
    "To compute the spectral norm of A you can use np.linalg.norm(A, 2)"
   ]
  },
  {
   "cell_type": "code",
   "execution_count": 26,
   "metadata": {},
   "outputs": [],
   "source": [
    "def calculate_L(b, A):\n",
    "    \"\"\"Calculate the smoothness constant for f\"\"\"\n",
    "    # ***************************************************\n",
    "    # INSERT YOUR CODE HERE\n",
    "    # TODO: compute ||A.T*A||\n",
    "    AtA_norm = np.linalg.norm(np.dot(A.T, A), 2)\n",
    "    # ***************************************************\n",
    "    # raise NotImplementedError\n",
    "    # ***************************************************\n",
    "    # INSERT YOUR CODE HERE\n",
    "    # TODO: compute L = smoothness constant of f\n",
    "    n = A.shape[0]\n",
    "    L = (AtA_norm**2) / n\n",
    "    # ***************************************************\n",
    "    # raise NotImplementedError\n",
    "    return L"
   ]
  },
  {
   "cell_type": "markdown",
   "metadata": {},
   "source": [
    "# Gradient Descent"
   ]
  },
  {
   "cell_type": "markdown",
   "metadata": {},
   "source": [
    "Please fill in the functions `compute_gradient` below:"
   ]
  },
  {
   "cell_type": "code",
   "execution_count": 27,
   "metadata": {},
   "outputs": [],
   "source": [
    "def compute_gradient(b, A, x):\n",
    "    \"\"\"Compute the gradient.\"\"\"\n",
    "    # ***************************************************\n",
    "    # INSERT YOUR CODE HERE\n",
    "    # TODO: compute gradient and objective\n",
    "    Ax = np.dot(A, x)\n",
    "    Axmb = Ax - b\n",
    "    grad = np.dot(A.T, Axmb)\n",
    "    # ***************************************************\n",
    "    # raise NotImplementedError\n",
    "    return grad, Axmb"
   ]
  },
  {
   "cell_type": "markdown",
   "metadata": {},
   "source": [
    "Please fill in the functions `gradient_descent` below:"
   ]
  },
  {
   "cell_type": "code",
   "execution_count": 28,
   "metadata": {},
   "outputs": [],
   "source": [
    "def gradient_descent(b, A, initial_x, max_iters, gamma):\n",
    "    \"\"\"Gradient descent algorithm.\"\"\"\n",
    "    # Define parameters to store x and objective func. values\n",
    "    xs = [initial_x]\n",
    "    objectives = []\n",
    "    x = initial_x\n",
    "    for n_iter in range(max_iters):\n",
    "        # ***************************************************\n",
    "        # INSERT YOUR CODE HERE\n",
    "        # TODO: compute gradient and objective function\n",
    "        grad, Axmb = compute_gradient(b, A, x)\n",
    "        obj = calculate_objective(Axmb)\n",
    "        # ***************************************************\n",
    "        # raise NotImplementedError\n",
    "        # ***************************************************\n",
    "        # INSERT YOUR CODE HERE\n",
    "        # TODO: update x by a gradient descent step\n",
    "        x = x - gamma * grad\n",
    "        # ***************************************************\n",
    "        # raise NotImplementedError\n",
    "        # store x and objective function value\n",
    "        xs.append(x)\n",
    "        objectives.append(obj)\n",
    "        print(\"Gradient Descent({bi}/{ti}): objective={l}\".format(\n",
    "              bi=n_iter, ti=max_iters - 1, l=obj))\n",
    "\n",
    "    return objectives, xs"
   ]
  },
  {
   "cell_type": "markdown",
   "metadata": {},
   "source": [
    "Test your gradient descent function with a naive step size through gradient descent demo shown below:"
   ]
  },
  {
   "cell_type": "code",
   "execution_count": 29,
   "metadata": {},
   "outputs": [
    {
     "name": "stdout",
     "output_type": "stream",
     "text": [
      "Gradient Descent(0/49): objective=2792.236712759168\n",
      "Gradient Descent(1/49): objective=2771299915.4772677\n",
      "Gradient Descent(2/49): objective=2765760071591108.0\n",
      "Gradient Descent(3/49): objective=2.760231317207979e+21\n",
      "Gradient Descent(4/49): objective=2.7547136148048795e+27\n",
      "Gradient Descent(5/49): objective=2.749206942288882e+33\n",
      "Gradient Descent(6/49): objective=2.7437112776112446e+39\n",
      "Gradient Descent(7/49): objective=2.7382265987672964e+45\n",
      "Gradient Descent(8/49): objective=2.7327528837963597e+51\n",
      "Gradient Descent(9/49): objective=2.7272901107816493e+57\n",
      "Gradient Descent(10/49): objective=2.721838257850197e+63\n",
      "Gradient Descent(11/49): objective=2.7163973031727537e+69\n",
      "Gradient Descent(12/49): objective=2.710967224963709e+75\n",
      "Gradient Descent(13/49): objective=2.7055480014810055e+81\n",
      "Gradient Descent(14/49): objective=2.7001396110260454e+87\n",
      "Gradient Descent(15/49): objective=2.6947420319436023e+93\n",
      "Gradient Descent(16/49): objective=2.689355242621744e+99\n",
      "Gradient Descent(17/49): objective=2.683979221491743e+105\n",
      "Gradient Descent(18/49): objective=2.678613947027979e+111\n",
      "Gradient Descent(19/49): objective=2.6732593977478685e+117\n",
      "Gradient Descent(20/49): objective=2.6679155522117693e+123\n",
      "Gradient Descent(21/49): objective=2.6625823890228966e+129\n",
      "Gradient Descent(22/49): objective=2.6572598868272386e+135\n",
      "Gradient Descent(23/49): objective=2.651948024313471e+141\n",
      "Gradient Descent(24/49): objective=2.6466467802128628e+147\n",
      "Gradient Descent(25/49): objective=2.641356133299215e+153\n",
      "Gradient Descent(26/49): objective=2.6360760623887463e+159\n",
      "Gradient Descent(27/49): objective=2.630806546340028e+165\n",
      "Gradient Descent(28/49): objective=2.6255475640538904e+171\n",
      "Gradient Descent(29/49): objective=2.6202990944733453e+177\n",
      "Gradient Descent(30/49): objective=2.61506111658349e+183\n",
      "Gradient Descent(31/49): objective=2.609833609411437e+189\n",
      "Gradient Descent(32/49): objective=2.604616552026222e+195\n",
      "Gradient Descent(33/49): objective=2.599409923538717e+201\n",
      "Gradient Descent(34/49): objective=2.594213703101561e+207\n",
      "Gradient Descent(35/49): objective=2.589027869909058e+213\n",
      "Gradient Descent(36/49): objective=2.5838524031971074e+219\n",
      "Gradient Descent(37/49): objective=2.578687282243115e+225\n",
      "Gradient Descent(38/49): objective=2.5735324863659093e+231\n",
      "Gradient Descent(39/49): objective=2.5683879949256615e+237\n",
      "Gradient Descent(40/49): objective=2.5632537873238057e+243\n",
      "Gradient Descent(41/49): objective=2.558129843002943e+249\n",
      "Gradient Descent(42/49): objective=2.5530161414467798e+255\n",
      "Gradient Descent(43/49): objective=2.547912662180024e+261\n",
      "Gradient Descent(44/49): objective=2.542819384768327e+267\n",
      "Gradient Descent(45/49): objective=2.537736288818173e+273\n",
      "Gradient Descent(46/49): objective=2.532663353976826e+279\n",
      "Gradient Descent(47/49): objective=2.5276005599322254e+285\n",
      "Gradient Descent(48/49): objective=2.522547886412917e+291\n",
      "Gradient Descent(49/49): objective=2.5175053131879765e+297\n",
      "Gradient Descent: execution time=0.007 seconds\n"
     ]
    }
   ],
   "source": [
    "# from gradient_descent import *\n",
    "from plots import gradient_descent_visualization\n",
    "\n",
    "# Define the parameters of the algorithm.\n",
    "max_iters = 50\n",
    "\n",
    "gamma = 0.1\n",
    "\n",
    "# Initialization\n",
    "x_initial = np.zeros(A.shape[1])\n",
    "\n",
    "# Start gradient descent.\n",
    "start_time = datetime.datetime.now()\n",
    "gradient_objectives_naive, gradient_xs_naive = gradient_descent(b, A, x_initial, max_iters, gamma)\n",
    "end_time = datetime.datetime.now()\n",
    "\n",
    "# Print result\n",
    "exection_time = (end_time - start_time).total_seconds()\n",
    "print(\"Gradient Descent: execution time={t:.3f} seconds\".format(t=exection_time))"
   ]
  },
  {
   "cell_type": "markdown",
   "metadata": {},
   "source": [
    "Time Visualization"
   ]
  },
  {
   "cell_type": "code",
   "execution_count": 30,
   "metadata": {},
   "outputs": [
    {
     "data": {
      "text/plain": "interactive(children=(IntSlider(value=1, description='n_iter', max=51, min=1), Output()), _dom_classes=('widge…",
      "application/vnd.jupyter.widget-view+json": {
       "version_major": 2,
       "version_minor": 0,
       "model_id": "35de8284acc5484aad35b20ff255602c"
      }
     },
     "metadata": {},
     "output_type": "display_data"
    },
    {
     "data": {
      "text/plain": "<function __main__.plot_figure(n_iter)>"
     },
     "execution_count": 30,
     "metadata": {},
     "output_type": "execute_result"
    }
   ],
   "source": [
    "from ipywidgets import IntSlider, interact\n",
    "from grid_search import *\n",
    "\n",
    "def plot_figure(n_iter):\n",
    "    # Generate grid data for visualization (parameters to be swept and best combination)\n",
    "    grid_x0, grid_x1 = generate_w(num_intervals=10)\n",
    "    grid_objectives = grid_search(b, A, grid_x0, grid_x1)\n",
    "    obj_star, x0_star, x1_star = get_best_parameters(grid_x0, grid_x1, grid_objectives)\n",
    "    \n",
    "    fig = gradient_descent_visualization(\n",
    "        gradient_objectives_naive, gradient_xs_naive, grid_objectives, grid_x0, grid_x1, mean_x, std_x, height, weight, n_iter)\n",
    "    fig.set_size_inches(10.0, 6.0)\n",
    "\n",
    "interact(plot_figure, n_iter=IntSlider(min=1, max=len(gradient_xs_naive)))"
   ]
  },
  {
   "cell_type": "markdown",
   "metadata": {},
   "source": [
    "Try doing gradient descent with a better learning rate"
   ]
  },
  {
   "cell_type": "code",
   "execution_count": 31,
   "metadata": {},
   "outputs": [
    {
     "name": "stdout",
     "output_type": "stream",
     "text": [
      "Gradient Descent(0/49): objective=2792.236712759168\n",
      "Gradient Descent(1/49): objective=15.385887868829403\n",
      "Gradient Descent(2/49): objective=15.385887868829403\n",
      "Gradient Descent(3/49): objective=15.385887868829403\n",
      "Gradient Descent(4/49): objective=15.385887868829403\n",
      "Gradient Descent(5/49): objective=15.385887868829403\n",
      "Gradient Descent(6/49): objective=15.385887868829403\n",
      "Gradient Descent(7/49): objective=15.385887868829403\n",
      "Gradient Descent(8/49): objective=15.385887868829403\n",
      "Gradient Descent(9/49): objective=15.385887868829403\n",
      "Gradient Descent(10/49): objective=15.385887868829403\n",
      "Gradient Descent(11/49): objective=15.385887868829403\n",
      "Gradient Descent(12/49): objective=15.385887868829403\n",
      "Gradient Descent(13/49): objective=15.385887868829403\n",
      "Gradient Descent(14/49): objective=15.385887868829403\n",
      "Gradient Descent(15/49): objective=15.385887868829403\n",
      "Gradient Descent(16/49): objective=15.385887868829403\n",
      "Gradient Descent(17/49): objective=15.385887868829403\n",
      "Gradient Descent(18/49): objective=15.385887868829403\n",
      "Gradient Descent(19/49): objective=15.385887868829403\n",
      "Gradient Descent(20/49): objective=15.385887868829403\n",
      "Gradient Descent(21/49): objective=15.385887868829403\n",
      "Gradient Descent(22/49): objective=15.385887868829403\n",
      "Gradient Descent(23/49): objective=15.385887868829403\n",
      "Gradient Descent(24/49): objective=15.385887868829403\n",
      "Gradient Descent(25/49): objective=15.385887868829403\n",
      "Gradient Descent(26/49): objective=15.385887868829403\n",
      "Gradient Descent(27/49): objective=15.385887868829403\n",
      "Gradient Descent(28/49): objective=15.385887868829403\n",
      "Gradient Descent(29/49): objective=15.385887868829403\n",
      "Gradient Descent(30/49): objective=15.385887868829403\n",
      "Gradient Descent(31/49): objective=15.385887868829403\n",
      "Gradient Descent(32/49): objective=15.385887868829403\n",
      "Gradient Descent(33/49): objective=15.385887868829403\n",
      "Gradient Descent(34/49): objective=15.385887868829403\n",
      "Gradient Descent(35/49): objective=15.385887868829403\n",
      "Gradient Descent(36/49): objective=15.385887868829403\n",
      "Gradient Descent(37/49): objective=15.385887868829403\n",
      "Gradient Descent(38/49): objective=15.385887868829403\n",
      "Gradient Descent(39/49): objective=15.385887868829403\n",
      "Gradient Descent(40/49): objective=15.385887868829403\n",
      "Gradient Descent(41/49): objective=15.385887868829403\n",
      "Gradient Descent(42/49): objective=15.385887868829403\n",
      "Gradient Descent(43/49): objective=15.385887868829403\n",
      "Gradient Descent(44/49): objective=15.385887868829403\n",
      "Gradient Descent(45/49): objective=15.385887868829403\n",
      "Gradient Descent(46/49): objective=15.385887868829403\n",
      "Gradient Descent(47/49): objective=15.385887868829403\n",
      "Gradient Descent(48/49): objective=15.385887868829403\n",
      "Gradient Descent(49/49): objective=15.385887868829403\n",
      "Gradient Descent: execution time=0.009 seconds\n"
     ]
    }
   ],
   "source": [
    "# Define the parameters of the algorithm.\n",
    "max_iters = 50\n",
    "\n",
    "# ***************************************************\n",
    "# INSERT YOUR CODE HERE\n",
    "# TODO: a better learning rate using the smoothness of f\n",
    "L = calculate_L(b, A)\n",
    "# ***************************************************\n",
    "gamma = 1 / L\n",
    "# raise NotImplementedError\n",
    "\n",
    "# Initialization\n",
    "x_initial = np.zeros(A.shape[1])\n",
    "\n",
    "# Start gradient descent.\n",
    "start_time = datetime.datetime.now()\n",
    "gradient_objectives, gradient_xs = gradient_descent(b, A, x_initial, max_iters, gamma)\n",
    "end_time = datetime.datetime.now()\n",
    "\n",
    "# Print result\n",
    "exection_time = (end_time - start_time).total_seconds()\n",
    "print(\"Gradient Descent: execution time={t:.3f} seconds\".format(t=exection_time))"
   ]
  },
  {
   "cell_type": "markdown",
   "metadata": {},
   "source": [
    "Time visualization with a better learning rate"
   ]
  },
  {
   "cell_type": "code",
   "execution_count": 32,
   "metadata": {},
   "outputs": [
    {
     "data": {
      "text/plain": "interactive(children=(IntSlider(value=1, description='n_iter', max=51, min=1), Output()), _dom_classes=('widge…",
      "application/vnd.jupyter.widget-view+json": {
       "version_major": 2,
       "version_minor": 0,
       "model_id": "3b1e487c6bde48f39034965cebb922eb"
      }
     },
     "metadata": {},
     "output_type": "display_data"
    },
    {
     "data": {
      "text/plain": "<function __main__.plot_figure(n_iter)>"
     },
     "execution_count": 32,
     "metadata": {},
     "output_type": "execute_result"
    }
   ],
   "source": [
    "def plot_figure(n_iter):\n",
    "    # Generate grid data for visualization (parameters to be swept and best combination)\n",
    "    grid_x0, grid_x1 = generate_w(num_intervals=10)\n",
    "    grid_objectives = grid_search(b, A, grid_x0, grid_x1)\n",
    "    obj_star, x0_star, x1_star = get_best_parameters(grid_x0, grid_x1, grid_objectives)\n",
    "    \n",
    "    fig = gradient_descent_visualization(\n",
    "        gradient_objectives, gradient_xs, grid_objectives, grid_x0, grid_x1, mean_x, std_x, height, weight, n_iter)\n",
    "    fig.set_size_inches(10.0, 6.0)\n",
    "\n",
    "interact(plot_figure, n_iter=IntSlider(min=1, max=len(gradient_xs)))"
   ]
  },
  {
   "cell_type": "markdown",
   "metadata": {},
   "source": [
    "# Loading more complex data\n",
    "The data is taken from https://archive.ics.uci.edu/ml/datasets/Concrete+Compressive+Strength "
   ]
  },
  {
   "cell_type": "code",
   "execution_count": 33,
   "metadata": {},
   "outputs": [],
   "source": [
    "data = np.loadtxt(\"Concrete_Data.csv\",delimiter=\",\")\n",
    "\n",
    "A = data[:,:-1]\n",
    "b = data[:,-1]\n",
    "A, mean_A, std_A = standardize(A)"
   ]
  },
  {
   "cell_type": "code",
   "execution_count": 34,
   "metadata": {},
   "outputs": [
    {
     "data": {
      "text/plain": "((1030,), (1030, 8))"
     },
     "execution_count": 34,
     "metadata": {},
     "output_type": "execute_result"
    }
   ],
   "source": [
    "b.shape, A.shape"
   ]
  },
  {
   "cell_type": "markdown",
   "metadata": {},
   "source": [
    "# Running gradient descent"
   ]
  },
  {
   "cell_type": "markdown",
   "metadata": {},
   "source": [
    "## Assuming bounded gradients\n",
    "Assume we are moving in a bounded region $\\|x\\| \\leq 25$ containing all iterates (and we assume $\\|x-x^\\star\\| \\leq 25$ as well, for simplicity). Then by $\\nabla f(x) = \\frac{1}{n}A^\\top (Ax - b)$, one can see that $f$ is Lipschitz over that bounded region, with Lipschitz constant $\\|\\nabla f(x)\\| \\leq \\frac{1}{n} (\\|A^\\top A\\|\\|x\\| + \\|A^\\top b\\|)$"
   ]
  },
  {
   "cell_type": "code",
   "execution_count": 35,
   "metadata": {},
   "outputs": [],
   "source": [
    "# ***************************************************\n",
    "# INSERT YOUR CODE HERE\n",
    "# TODO: Compute the bound on the gradient norm\n",
    "# ***************************************************\n",
    "n = A.shape[0]\n",
    "grad_norm_bound = (1/n) * (np.linalg.norm(np.dot(A.T, A)) * 25 + np.linalg.norm(np.dot(A.T, b)))\n",
    "# raise NotImplementedError"
   ]
  },
  {
   "cell_type": "markdown",
   "metadata": {},
   "source": [
    "Fill in the learning rate assuming bounded gradients"
   ]
  },
  {
   "cell_type": "code",
   "execution_count": 36,
   "metadata": {},
   "outputs": [
    {
     "name": "stdout",
     "output_type": "stream",
     "text": [
      "Gradient Descent(0/49): objective=780.8686016504855\n",
      "Gradient Descent(1/49): objective=10847.94620087758\n",
      "Gradient Descent(2/49): objective=1575683.473455268\n",
      "Gradient Descent(3/49): objective=285140676.35373974\n",
      "Gradient Descent(4/49): objective=63486308664.263794\n",
      "Gradient Descent(5/49): objective=18942638366648.113\n",
      "Gradient Descent(6/49): objective=7469238566245391.0\n",
      "Gradient Descent(7/49): objective=3.47735438039779e+18\n",
      "Gradient Descent(8/49): objective=1.7384145737318654e+21\n",
      "Gradient Descent(9/49): objective=8.91949500750863e+23\n",
      "Gradient Descent(10/49): objective=4.617358861962334e+26\n",
      "Gradient Descent(11/49): objective=2.397425523587222e+29\n",
      "Gradient Descent(12/49): objective=1.246034728806469e+32\n",
      "Gradient Descent(13/49): objective=6.478283357269092e+34\n",
      "Gradient Descent(14/49): objective=3.3685124960209744e+37\n",
      "Gradient Descent(15/49): objective=1.7515906845730894e+40\n",
      "Gradient Descent(16/49): objective=9.108199881871182e+42\n",
      "Gradient Descent(17/49): objective=4.736246757943926e+45\n",
      "Gradient Descent(18/49): objective=2.4628429153748226e+48\n",
      "Gradient Descent(19/49): objective=1.280676132690656e+51\n",
      "Gradient Descent(20/49): objective=6.65950564212685e+53\n",
      "Gradient Descent(21/49): objective=3.4629378014664066e+56\n",
      "Gradient Descent(22/49): objective=1.8007250229327468e+59\n",
      "Gradient Descent(23/49): objective=9.363756486058598e+61\n",
      "Gradient Descent(24/49): objective=4.869146294762803e+64\n",
      "Gradient Descent(25/49): objective=2.5319523947581254e+67\n",
      "Gradient Descent(26/49): objective=1.316613332814445e+70\n",
      "Gradient Descent(27/49): objective=6.846379386524816e+72\n",
      "Gradient Descent(28/49): objective=3.560112110184333e+75\n",
      "Gradient Descent(29/49): objective=1.8512556085014503e+78\n",
      "Gradient Descent(30/49): objective=9.626515182537535e+80\n",
      "Gradient Descent(31/49): objective=5.005780624469127e+83\n",
      "Gradient Descent(32/49): objective=2.6030021440966076e+86\n",
      "Gradient Descent(33/49): objective=1.3535591490071294e+89\n",
      "Gradient Descent(34/49): objective=7.038497352052238e+91\n",
      "Gradient Descent(35/49): objective=3.660013307226858e+94\n",
      "Gradient Descent(36/49): objective=1.9032041555250383e+97\n",
      "Gradient Descent(37/49): objective=9.896647234739876e+99\n",
      "Gradient Descent(38/49): objective=5.146249087600628e+102\n",
      "Gradient Descent(39/49): objective=2.6760456388366376e+105\n",
      "Gradient Descent(40/49): objective=1.3915417111058292e+108\n",
      "Gradient Descent(41/49): objective=7.23600638810162e+110\n",
      "Gradient Descent(42/49): objective=3.762717856803461e+113\n",
      "Gradient Descent(43/49): objective=1.9566104437370482e+116\n",
      "Gradient Descent(44/49): objective=1.0174359530090203e+119\n",
      "Gradient Descent(45/49): objective=5.290659271439997e+121\n",
      "Gradient Descent(46/49): objective=2.751138825367008e+124\n",
      "Gradient Descent(47/49): objective=1.4305901113873315e+127\n",
      "Gradient Descent(48/49): objective=7.439057774651548e+129\n",
      "Gradient Descent(49/49): objective=3.868304424454426e+132\n",
      "Gradient Descent: execution time=0.005 seconds\n"
     ]
    }
   ],
   "source": [
    "max_iters = 50\n",
    "\n",
    "# ***************************************************\n",
    "# INSERT YOUR CODE HERE\n",
    "# TODO: Compute learning rate based on bounded gradient\n",
    "# ***************************************************\n",
    "gamma = 1 / grad_norm_bound\n",
    "# raise NotImplementedError\n",
    "\n",
    "# Initialization\n",
    "x_initial = np.zeros(A.shape[1])\n",
    "\n",
    "# Start gradient descent.\n",
    "start_time = datetime.datetime.now()\n",
    "bd_gradient_objectives, bd_gradient_xs = gradient_descent(b, A, x_initial, max_iters, gamma)\n",
    "end_time = datetime.datetime.now()\n",
    "\n",
    "\n",
    "# Print result\n",
    "exection_time = (end_time - start_time).total_seconds()\n",
    "print(\"Gradient Descent: execution time={t:.3f} seconds\".format(t=exection_time))\n",
    "\n",
    "# Averaging the iterates as is the case for bounded gradients case\n",
    "bd_gradient_objectives_averaged = []\n",
    "for i in range(len(bd_gradient_xs)):\n",
    "    if i > 0:\n",
    "        bd_gradient_xs[i] = (i * bd_gradient_xs[i-1] + bd_gradient_xs[i])/(i + 1)\n",
    "    grad, err = compute_gradient(b, A, bd_gradient_xs[i])\n",
    "    obj = calculate_objective(err) # 此处原代码为calculate_mse(err)，但似乎并不正确，改为calculate_objective(err) by 162150107_JGZ\n",
    "    bd_gradient_objectives_averaged.append(obj)"
   ]
  },
  {
   "cell_type": "markdown",
   "metadata": {},
   "source": [
    "## Gradient descent using smoothness\n",
    "Fill in the learning rate using smoothness of the function"
   ]
  },
  {
   "cell_type": "code",
   "execution_count": 37,
   "metadata": {},
   "outputs": [
    {
     "name": "stdout",
     "output_type": "stream",
     "text": [
      "Gradient Descent(0/49): objective=780.8686016504855\n",
      "Gradient Descent(1/49): objective=749.6255405219083\n",
      "Gradient Descent(2/49): objective=730.9693161067969\n",
      "Gradient Descent(3/49): objective=719.6244553850347\n",
      "Gradient Descent(4/49): objective=712.5885212381744\n",
      "Gradient Descent(5/49): objective=708.1300188250653\n",
      "Gradient Descent(6/49): objective=705.2374794053843\n",
      "Gradient Descent(7/49): objective=703.3121891591262\n",
      "Gradient Descent(8/49): objective=701.9948012177332\n",
      "Gradient Descent(9/49): objective=701.0664599820734\n",
      "Gradient Descent(10/49): objective=700.3918253834885\n",
      "Gradient Descent(11/49): objective=699.8858805451465\n",
      "Gradient Descent(12/49): objective=699.4943665609062\n",
      "Gradient Descent(13/49): objective=699.1821030081791\n",
      "Gradient Descent(14/49): objective=698.9259212258179\n",
      "Gradient Descent(15/49): objective=698.7103277531281\n",
      "Gradient Descent(16/49): objective=698.5248043531318\n",
      "Gradient Descent(17/49): objective=698.3621024370776\n",
      "Gradient Descent(18/49): objective=698.2171502620128\n",
      "Gradient Descent(19/49): objective=698.086343178676\n",
      "Gradient Descent(20/49): objective=697.9670767544098\n",
      "Gradient Descent(21/49): objective=697.8574360265078\n",
      "Gradient Descent(22/49): objective=697.755986439482\n",
      "Gradient Descent(23/49): objective=697.6616318118685\n",
      "Gradient Descent(24/49): objective=697.5735169779515\n",
      "Gradient Descent(25/49): objective=697.4909605013298\n",
      "Gradient Descent(26/49): objective=697.413407809832\n",
      "Gradient Descent(27/49): objective=697.3403983071087\n",
      "Gradient Descent(28/49): objective=697.2715421168328\n",
      "Gradient Descent(29/49): objective=697.2065035072288\n",
      "Gradient Descent(30/49): objective=697.1449889750762\n",
      "Gradient Descent(31/49): objective=697.086738597216\n",
      "Gradient Descent(32/49): objective=697.0315196854972\n",
      "Gradient Descent(33/49): objective=696.9791220742228\n",
      "Gradient Descent(34/49): objective=696.9293545711254\n",
      "Gradient Descent(35/49): objective=696.8820422427663\n",
      "Gradient Descent(36/49): objective=696.8370243025313\n",
      "Gradient Descent(37/49): objective=696.7941524373105\n",
      "Gradient Descent(38/49): objective=696.7532894565279\n",
      "Gradient Descent(39/49): objective=696.7143081806277\n",
      "Gradient Descent(40/49): objective=696.6770905096727\n",
      "Gradient Descent(41/49): objective=696.6415266293695\n",
      "Gradient Descent(42/49): objective=696.6075143236236\n",
      "Gradient Descent(43/49): objective=696.5749583710993\n",
      "Gradient Descent(44/49): objective=696.5437700092526\n",
      "Gradient Descent(45/49): objective=696.5138664535435\n",
      "Gradient Descent(46/49): objective=696.4851704626237\n",
      "Gradient Descent(47/49): objective=696.4576099424852\n",
      "Gradient Descent(48/49): objective=696.431117584164\n",
      "Gradient Descent(49/49): objective=696.4056305307505\n",
      "Gradient Descent: execution time=0.005 seconds\n"
     ]
    }
   ],
   "source": [
    "max_iters = 50\n",
    "\n",
    "\n",
    "# ***************************************************\n",
    "# INSERT YOUR CODE HERE\n",
    "# TODO: a better learning rate using the smoothness of f\n",
    "# ***************************************************\n",
    "L = calculate_L(b, A)\n",
    "gamma = 1 / L\n",
    "# raise NotImplementedError\n",
    "\n",
    "# Initialization\n",
    "x_initial = np.zeros(A.shape[1])\n",
    "\n",
    "# Start gradient descent.\n",
    "start_time = datetime.datetime.now()\n",
    "gradient_objectives, gradient_xs = gradient_descent(b, A, x_initial, max_iters, gamma)\n",
    "end_time = datetime.datetime.now()\n",
    "\n",
    "# Print result\n",
    "exection_time = (end_time - start_time).total_seconds()\n",
    "print(\"Gradient Descent: execution time={t:.3f} seconds\".format(t=exection_time))"
   ]
  },
  {
   "cell_type": "markdown",
   "metadata": {},
   "source": [
    "## Plotting the Evolution of the Objective Function"
   ]
  },
  {
   "cell_type": "code",
   "execution_count": 38,
   "metadata": {},
   "outputs": [
    {
     "data": {
      "text/plain": "<Figure size 800x800 with 1 Axes>",
      "image/png": "[encoded data removed]"
     },
     "metadata": {},
     "output_type": "display_data"
    }
   ],
   "source": [
    "plt.figure(figsize=(8, 8))\n",
    "plt.xlabel('Number of steps')\n",
    "plt.ylabel('Objective Function')\n",
    "#plt.yscale(\"log\")\n",
    "plt.plot(range(len(gradient_objectives)), gradient_objectives,'r', label='gradient descent with 1/L stepsize')\n",
    "plt.plot(range(len(bd_gradient_objectives)), bd_gradient_objectives,'b', label='gradient descent assuming bounded gradients')\n",
    "plt.plot(range(len(bd_gradient_objectives_averaged)), bd_gradient_objectives_averaged,'g', label='gradient descent assuming bounded gradients with averaged iterates')\n",
    "plt.legend(loc='upper right')\n",
    "plt.show()"
   ]
  }
 ],
 "metadata": {
  "anaconda-cloud": {},
  "kernelspec": {
   "display_name": "Python 3",
   "language": "python",
   "name": "python3"
  },
  "language_info": {
   "codemirror_mode": {
    "name": "ipython",
    "version": 3
   },
   "file_extension": ".py",
   "mimetype": "text/x-python",
   "name": "python",
   "nbconvert_exporter": "python",
   "pygments_lexer": "ipython3",
   "version": "3.7.4"
  },
  "widgets": {
   "state": {
    "d2b2c3aea192430e81437f33ba0b0e69": {
     "views": [
      {
       "cell_index": 22
      }
     ]
    },
    "e4a6a7a70ccd42ddb112989c04f2ed3f": {
     "views": [
      {
       "cell_index": 18
      }
     ]
    }
   },
   "version": "1.2.0"
  }
 },
 "nbformat": 4,
 "nbformat_minor": 1
}
